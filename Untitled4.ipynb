{
  "nbformat": 4,
  "nbformat_minor": 0,
  "metadata": {
    "colab": {
      "provenance": [],
      "authorship_tag": "ABX9TyONj9ZBb17IlGd/V7BQ51Wi",
      "include_colab_link": true
    },
    "kernelspec": {
      "name": "python3",
      "display_name": "Python 3"
    },
    "language_info": {
      "name": "python"
    }
  },
  "cells": [
    {
      "cell_type": "markdown",
      "metadata": {
        "id": "view-in-github",
        "colab_type": "text"
      },
      "source": [
        "<a href=\"https://colab.research.google.com/github/AaminaEffat011/011-To-do-List/blob/main/Untitled4.ipynb\" target=\"_parent\"><img src=\"https://colab.research.google.com/assets/colab-badge.svg\" alt=\"Open In Colab\"/></a>"
      ]
    },
    {
      "cell_type": "code",
      "execution_count": null,
      "metadata": {
        "id": "rVOQUZnqfMaJ"
      },
      "outputs": [],
      "source": []
    },
    {
      "cell_type": "markdown",
      "source": [
        "ATM_MACHINE.py02\n"
      ],
      "metadata": {
        "id": "TmIVKFFYfnz-"
      }
    },
    {
      "cell_type": "code",
      "source": [
        "class ATM:\n",
        "    def __init__(self):\n",
        "        self.balance = 1000  # Initial balance\n",
        "        self.pin = \"1234\"    # Default PIN\n",
        "        self.is_authenticated = False\n",
        "\n",
        "    def check_pin(self, input_pin):\n",
        "        \"\"\"Check if the input PIN is correct.\"\"\"\n",
        "        if input_pin == self.pin:\n",
        "            self.is_authenticated = True\n",
        "            print(\"PIN accepted.\\n\")\n",
        "        else:\n",
        "            self.is_authenticated = False\n",
        "            print(\"Incorrect PIN.\\n\")\n",
        "\n",
        "    def check_balance(self):\n",
        "        \"\"\"Display the current balance if PIN is correct.\"\"\"\n",
        "        if self.is_authenticated:\n",
        "            print(f\"Your current balance is: Rs. {self.balance}\\n\")\n",
        "        else:\n",
        "            print(\"Access denied. Please enter the correct PIN first.\\n\")\n",
        "\n",
        "    def deposit(self, amount):\n",
        "        \"\"\"Deposit the amount if PIN is correct and amount is valid.\"\"\"\n",
        "        if not self.is_authenticated:\n",
        "            print(\"Access denied. Please enter the correct PIN first.\\n\")\n",
        "            return\n",
        "\n",
        "        if amount > 0:\n",
        "            self.balance += amount\n",
        "            print(f\"Rs. {amount} deposited successfully.\\n\")\n",
        "        else:\n",
        "            print(\"Invalid amount. Deposit must be more than 0.\\n\")\n",
        "\n",
        "    def withdraw(self, amount):\n",
        "        \"\"\"Withdraw the amount if PIN is correct and balance is sufficient.\"\"\"\n",
        "        if not self.is_authenticated:\n",
        "            print(\"Access denied. Please enter the correct PIN first.\\n\")\n",
        "            return\n",
        "\n",
        "        if amount <= 0:\n",
        "            print(\"Invalid amount. Withdrawal must be more than 0.\\n\")\n",
        "        elif amount > self.balance:\n",
        "            print(\"Insufficient balance.\\n\")\n",
        "        else:\n",
        "            self.balance -= amount\n",
        "            print(f\"Rs. {amount} withdrawn successfully.\\n\")\n",
        "\n",
        "    def exit(self):\n",
        "        \"\"\"Exit the ATM.\"\"\"\n",
        "        print(\"Thank you for using the ATM. Goodbye!\")\n",
        "        exit()\n",
        "\n",
        "\n",
        "# Menu-driven interface\n",
        "atm = ATM()\n",
        "\n",
        "print(\"Welcome to the ATM\")\n",
        "user_pin = input(\"Enter your PIN: \")\n",
        "atm.check_pin(user_pin)\n",
        "\n",
        "while True:\n",
        "    print(\"\\nPlease choose an option:\")\n",
        "    print(\"1. Check Balance\")\n",
        "    print(\"2. Deposit Money\")\n",
        "    print(\"3. Withdraw Money\")\n",
        "    print(\"4. Exit\")\n",
        "\n",
        "    choice = input(\"Enter your choice (1-4): \")\n",
        "\n",
        "    if choice == '1':\n",
        "        atm.check_balance()\n",
        "    elif choice == '2':\n",
        "        try:\n",
        "            amount = float(input(\"Enter amount to deposit: \"))\n",
        "            atm.deposit(amount)\n",
        "        except ValueError:\n",
        "            print(\"Invalid input. Please enter a numeric value.\\n\")\n",
        "    elif choice == '3':\n",
        "        try:\n",
        "            amount = float(input(\"Enter amount to withdraw: \"))\n",
        "            atm.withdraw(amount)\n",
        "        except ValueError:\n",
        "            print(\"Invalid input. Please enter a numeric value.\\n\")\n",
        "    elif choice == '4':\n",
        "        atm.exit()\n",
        "    else:\n",
        "        print(\"Invalid choice. Please select a valid option.\\n\")"
      ],
      "metadata": {
        "colab": {
          "base_uri": "https://localhost:8080/"
        },
        "id": "pIqV7U9lfvMD",
        "outputId": "3a32c9e4-e218-493c-af4a-ab6d145a93eb"
      },
      "execution_count": null,
      "outputs": [
        {
          "output_type": "stream",
          "name": "stdout",
          "text": [
            "Welcome to the ATM\n",
            "Enter your PIN: 1234\n",
            "PIN accepted.\n",
            "\n",
            "\n",
            "Please choose an option:\n",
            "1. Check Balance\n",
            "2. Deposit Money\n",
            "3. Withdraw Money\n",
            "4. Exit\n",
            "Enter your choice (1-4): 1\n",
            "Your current balance is: Rs. 1000\n",
            "\n",
            "\n",
            "Please choose an option:\n",
            "1. Check Balance\n",
            "2. Deposit Money\n",
            "3. Withdraw Money\n",
            "4. Exit\n",
            "Enter your choice (1-4): 1\n",
            "Your current balance is: Rs. 1000\n",
            "\n",
            "\n",
            "Please choose an option:\n",
            "1. Check Balance\n",
            "2. Deposit Money\n",
            "3. Withdraw Money\n",
            "4. Exit\n",
            "Enter your choice (1-4): 2\n",
            "Enter amount to deposit: 1000\n",
            "Rs. 1000.0 deposited successfully.\n",
            "\n",
            "\n",
            "Please choose an option:\n",
            "1. Check Balance\n",
            "2. Deposit Money\n",
            "3. Withdraw Money\n",
            "4. Exit\n",
            "Enter your choice (1-4): 4\n",
            "Thank you for using the ATM. Goodbye!\n",
            "\n",
            "Please choose an option:\n",
            "1. Check Balance\n",
            "2. Deposit Money\n",
            "3. Withdraw Money\n",
            "4. Exit\n"
          ]
        }
      ]
    }
  ]
}